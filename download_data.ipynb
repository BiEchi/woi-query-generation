{
 "cells": [
  {
   "cell_type": "markdown",
   "metadata": {},
   "source": [
    "## Download data from Wentao's huggingface"
   ]
  },
  {
   "cell_type": "code",
   "execution_count": 8,
   "metadata": {},
   "outputs": [
    {
     "name": "stderr",
     "output_type": "stream",
     "text": [
      "/anaconda/envs/py38_default/lib/python3.8/site-packages/huggingface_hub/utils/_deprecation.py:100: FutureWarning: Deprecated argument(s) used in 'snapshot_download': allow_regex. Will not be supported from version '0.12'.\n",
      "\n",
      "Please use `allow_patterns` and `ignore_patterns` instead.\n",
      "  warnings.warn(message, FutureWarning)\n"
     ]
    },
    {
     "data": {
      "application/vnd.jupyter.widget-view+json": {
       "model_id": "fc396f3400024cfc8e11bd3ce25c6b19",
       "version_major": 2,
       "version_minor": 0
      },
      "text/plain": [
       "Fetching 3 files:   0%|          | 0/3 [00:00<?, ?it/s]"
      ]
     },
     "metadata": {},
     "output_type": "display_data"
    },
    {
     "data": {
      "text/plain": [
       "'/home/v-haobai/.cache/huggingface/hub/models--HAAAALAND--finetune_t5/snapshots/3fd9bea3068ea2c70cc2c3338a0839aa3087d301'"
      ]
     },
     "execution_count": 8,
     "metadata": {},
     "output_type": "execute_result"
    }
   ],
   "source": [
    "# download https://huggingface.co/HAAAALAND/finetune_t5/tree/main/wizard_of_interent\n",
    "from huggingface_hub import hf_hub_download\n",
    "from huggingface_hub import snapshot_download\n",
    "\n",
    "# hf_hub_download(\"HAAAALAND/finetune_t5\", \"wizard_of_interent\")\n",
    "snapshot_download(\"HAAAALAND/finetune_t5\", allow_regex=[r\"*.jsonl\"], revision=\"main\")"
   ]
  },
  {
   "cell_type": "code",
   "execution_count": 7,
   "metadata": {},
   "outputs": [
    {
     "name": "stdout",
     "output_type": "stream",
     "text": [
      "total 12\n",
      "lrwxrwxrwx 1 FAREAST.v-haobai FAREAST.domain users 79 Mar  1 10:09 test.jsonl -> ../../../blobs/52e4cbe400065ba78ddd5f8f6a421fd66d621f105a16eae3e423ecaa9fe9740a\n",
      "lrwxrwxrwx 1 FAREAST.v-haobai FAREAST.domain users 79 Mar  1 10:09 train.jsonl -> ../../../blobs/18e974602bf3ffe0789af94b818cbc837e9c3fc7ace409fcf00c4cd01203313a\n",
      "lrwxrwxrwx 1 FAREAST.v-haobai FAREAST.domain users 79 Mar  1 10:09 valid.jsonl -> ../../../blobs/cdf8504ac099bf316d179148abd10e0b9ad1ba20996b266421d251d2a67fdecd\n"
     ]
    }
   ],
   "source": [
    "!ls /home/v-haobai/.cache/huggingface/hub/models--HAAAALAND--finetune_t5/snapshots/3fd9bea3068ea2c70cc2c3338a0839aa3087d301/wizard_of_interent -l\n",
    "!rm data/*\n",
    "# copy the content, not symbolic link!\n",
    "!cp -L /home/v-haobai/.cache/huggingface/hub/models--HAAAALAND--finetune_t5/snapshots/3fd9bea3068ea2c70cc2c3338a0839aa3087d301/wizard_of_interent/* ./data/raw"
   ]
  },
  {
   "cell_type": "code",
   "execution_count": null,
   "metadata": {},
   "outputs": [],
   "source": []
  }
 ],
 "metadata": {
  "kernelspec": {
   "display_name": "py38_default",
   "language": "python",
   "name": "python3"
  },
  "language_info": {
   "codemirror_mode": {
    "name": "ipython",
    "version": 3
   },
   "file_extension": ".py",
   "mimetype": "text/x-python",
   "name": "python",
   "nbconvert_exporter": "python",
   "pygments_lexer": "ipython3",
   "version": "3.8.15"
  },
  "orig_nbformat": 4,
  "vscode": {
   "interpreter": {
    "hash": "1c975a20906e8142c699e3b310c99f06555776b58f1706bf1df8dfa61229c3f5"
   }
  }
 },
 "nbformat": 4,
 "nbformat_minor": 2
}
