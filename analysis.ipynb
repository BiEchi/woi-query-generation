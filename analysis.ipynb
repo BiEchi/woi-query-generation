{
 "cells": [
  {
   "cell_type": "code",
   "execution_count": 20,
   "metadata": {},
   "outputs": [],
   "source": [
    "import json\n",
    "import pandas as pd\n",
    "\n",
    "synthesized = pd.read_json('data/synthesized/train_sub1.jsonl', lines=True, orient='records')"
   ]
  },
  {
   "cell_type": "code",
   "execution_count": 26,
   "metadata": {},
   "outputs": [
    {
     "data": {
      "text/html": [
       "<div>\n",
       "<style scoped>\n",
       "    .dataframe tbody tr th:only-of-type {\n",
       "        vertical-align: middle;\n",
       "    }\n",
       "\n",
       "    .dataframe tbody tr th {\n",
       "        vertical-align: top;\n",
       "    }\n",
       "\n",
       "    .dataframe thead th {\n",
       "        text-align: right;\n",
       "    }\n",
       "</style>\n",
       "<table border=\"1\" class=\"dataframe\">\n",
       "  <thead>\n",
       "    <tr style=\"text-align: right;\">\n",
       "      <th></th>\n",
       "      <th>action</th>\n",
       "      <th>utterance</th>\n",
       "      <th>query</th>\n",
       "      <th>id</th>\n",
       "      <th>entity</th>\n",
       "      <th>cosmo_utterance</th>\n",
       "      <th>query_gen</th>\n",
       "    </tr>\n",
       "  </thead>\n",
       "  <tbody>\n",
       "    <tr>\n",
       "      <th>61386</th>\n",
       "      <td>bot</td>\n",
       "      <td>The weather is hot in Arizona isnt it?</td>\n",
       "      <td>False</td>\n",
       "      <td>84030</td>\n",
       "      <td>None</td>\n",
       "      <td>None</td>\n",
       "      <td>None</td>\n",
       "    </tr>\n",
       "    <tr>\n",
       "      <th>61387</th>\n",
       "      <td>user</td>\n",
       "      <td>It's a dry heat, isn't that what people say</td>\n",
       "      <td>True</td>\n",
       "      <td>84030</td>\n",
       "      <td>Arizona weather</td>\n",
       "      <td>Yeah, I've heard that too. It's not as bad as ...</td>\n",
       "      <td>What is the typical temperature range in Arizo...</td>\n",
       "    </tr>\n",
       "    <tr>\n",
       "      <th>61388</th>\n",
       "      <td>bot</td>\n",
       "      <td>Riding a bike for a mile is a good way to burn...</td>\n",
       "      <td>False</td>\n",
       "      <td>84030</td>\n",
       "      <td>None</td>\n",
       "      <td>None</td>\n",
       "      <td>None</td>\n",
       "    </tr>\n",
       "    <tr>\n",
       "      <th>61389</th>\n",
       "      <td>user</td>\n",
       "      <td>And considering how much I eat during my class...</td>\n",
       "      <td>False</td>\n",
       "      <td>84030</td>\n",
       "      <td>None</td>\n",
       "      <td>None</td>\n",
       "      <td>None</td>\n",
       "    </tr>\n",
       "  </tbody>\n",
       "</table>\n",
       "</div>"
      ],
      "text/plain": [
       "      action                                          utterance  query     id  \\\n",
       "61386    bot             The weather is hot in Arizona isnt it?  False  84030   \n",
       "61387   user        It's a dry heat, isn't that what people say   True  84030   \n",
       "61388    bot  Riding a bike for a mile is a good way to burn...  False  84030   \n",
       "61389   user  And considering how much I eat during my class...  False  84030   \n",
       "\n",
       "                entity                                    cosmo_utterance  \\\n",
       "61386             None                                               None   \n",
       "61387  Arizona weather  Yeah, I've heard that too. It's not as bad as ...   \n",
       "61388             None                                               None   \n",
       "61389             None                                               None   \n",
       "\n",
       "                                               query_gen  \n",
       "61386                                               None  \n",
       "61387  What is the typical temperature range in Arizo...  \n",
       "61388                                               None  \n",
       "61389                                               None  "
      ]
     },
     "execution_count": 26,
     "metadata": {},
     "output_type": "execute_result"
    }
   ],
   "source": [
    "ids = synthesized['id'].unique()\n",
    "synthesized[synthesized['id'] == ids[6000]]"
   ]
  },
  {
   "cell_type": "code",
   "execution_count": null,
   "metadata": {},
   "outputs": [],
   "source": []
  }
 ],
 "metadata": {
  "kernelspec": {
   "display_name": "py38_default",
   "language": "python",
   "name": "python3"
  },
  "language_info": {
   "codemirror_mode": {
    "name": "ipython",
    "version": 3
   },
   "file_extension": ".py",
   "mimetype": "text/x-python",
   "name": "python",
   "nbconvert_exporter": "python",
   "pygments_lexer": "ipython3",
   "version": "3.8.15"
  },
  "orig_nbformat": 4
 },
 "nbformat": 4,
 "nbformat_minor": 2
}
